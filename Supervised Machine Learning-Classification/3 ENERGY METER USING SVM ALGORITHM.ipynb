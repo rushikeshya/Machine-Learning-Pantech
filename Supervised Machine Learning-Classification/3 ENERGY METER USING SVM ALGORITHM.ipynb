{
 "cells": [
  {
   "cell_type": "markdown",
   "id": "91f27f4e",
   "metadata": {},
   "source": [
    "# ENERGY METER USING SVM ALGORITHM"
   ]
  },
  {
   "cell_type": "markdown",
   "id": "ee3aa566",
   "metadata": {},
   "source": [
    "# Loading Dataset"
   ]
  },
  {
   "cell_type": "code",
   "execution_count": 1,
   "id": "c483ab2c",
   "metadata": {},
   "outputs": [
    {
     "data": {
      "text/html": [
       "<div>\n",
       "<style scoped>\n",
       "    .dataframe tbody tr th:only-of-type {\n",
       "        vertical-align: middle;\n",
       "    }\n",
       "\n",
       "    .dataframe tbody tr th {\n",
       "        vertical-align: top;\n",
       "    }\n",
       "\n",
       "    .dataframe thead th {\n",
       "        text-align: right;\n",
       "    }\n",
       "</style>\n",
       "<table border=\"1\" class=\"dataframe\">\n",
       "  <thead>\n",
       "    <tr style=\"text-align: right;\">\n",
       "      <th></th>\n",
       "      <th>0.0</th>\n",
       "      <th>0.0.1</th>\n",
       "      <th>0.0.2</th>\n",
       "      <th>NoLoad</th>\n",
       "    </tr>\n",
       "  </thead>\n",
       "  <tbody>\n",
       "    <tr>\n",
       "      <th>0</th>\n",
       "      <td>0.0000</td>\n",
       "      <td>0.000000</td>\n",
       "      <td>0.000000</td>\n",
       "      <td>NoLoad</td>\n",
       "    </tr>\n",
       "    <tr>\n",
       "      <th>1</th>\n",
       "      <td>0.0000</td>\n",
       "      <td>0.000000</td>\n",
       "      <td>0.000000</td>\n",
       "      <td>NoLoad</td>\n",
       "    </tr>\n",
       "    <tr>\n",
       "      <th>2</th>\n",
       "      <td>0.0000</td>\n",
       "      <td>0.000000</td>\n",
       "      <td>0.000000</td>\n",
       "      <td>NoLoad</td>\n",
       "    </tr>\n",
       "    <tr>\n",
       "      <th>3</th>\n",
       "      <td>0.0000</td>\n",
       "      <td>0.000000</td>\n",
       "      <td>0.000000</td>\n",
       "      <td>NoLoad</td>\n",
       "    </tr>\n",
       "    <tr>\n",
       "      <th>4</th>\n",
       "      <td>0.0000</td>\n",
       "      <td>0.000000</td>\n",
       "      <td>0.000000</td>\n",
       "      <td>NoLoad</td>\n",
       "    </tr>\n",
       "    <tr>\n",
       "      <th>...</th>\n",
       "      <td>...</td>\n",
       "      <td>...</td>\n",
       "      <td>...</td>\n",
       "      <td>...</td>\n",
       "    </tr>\n",
       "    <tr>\n",
       "      <th>394</th>\n",
       "      <td>214.2647</td>\n",
       "      <td>0.847530</td>\n",
       "      <td>181.595761</td>\n",
       "      <td>Risk</td>\n",
       "    </tr>\n",
       "    <tr>\n",
       "      <th>395</th>\n",
       "      <td>214.6480</td>\n",
       "      <td>0.850669</td>\n",
       "      <td>182.594400</td>\n",
       "      <td>Risk</td>\n",
       "    </tr>\n",
       "    <tr>\n",
       "      <th>396</th>\n",
       "      <td>215.0313</td>\n",
       "      <td>0.850669</td>\n",
       "      <td>182.920461</td>\n",
       "      <td>Risk</td>\n",
       "    </tr>\n",
       "    <tr>\n",
       "      <th>397</th>\n",
       "      <td>211.9649</td>\n",
       "      <td>0.850669</td>\n",
       "      <td>180.311970</td>\n",
       "      <td>Risk</td>\n",
       "    </tr>\n",
       "    <tr>\n",
       "      <th>398</th>\n",
       "      <td>215.7979</td>\n",
       "      <td>0.850669</td>\n",
       "      <td>183.572584</td>\n",
       "      <td>Risk</td>\n",
       "    </tr>\n",
       "  </tbody>\n",
       "</table>\n",
       "<p>399 rows × 4 columns</p>\n",
       "</div>"
      ],
      "text/plain": [
       "          0.0     0.0.1       0.0.2  NoLoad\n",
       "0      0.0000  0.000000    0.000000  NoLoad\n",
       "1      0.0000  0.000000    0.000000  NoLoad\n",
       "2      0.0000  0.000000    0.000000  NoLoad\n",
       "3      0.0000  0.000000    0.000000  NoLoad\n",
       "4      0.0000  0.000000    0.000000  NoLoad\n",
       "..        ...       ...         ...     ...\n",
       "394  214.2647  0.847530  181.595761    Risk\n",
       "395  214.6480  0.850669  182.594400    Risk\n",
       "396  215.0313  0.850669  182.920461    Risk\n",
       "397  211.9649  0.850669  180.311970    Risk\n",
       "398  215.7979  0.850669  183.572584    Risk\n",
       "\n",
       "[399 rows x 4 columns]"
      ]
     },
     "execution_count": 1,
     "metadata": {},
     "output_type": "execute_result"
    }
   ],
   "source": [
    "import pandas as pd\n",
    "dataset = pd.read_csv(\"C:/Users/rushi/OneDrive/Desktop/Energy Meter.csv\")\n",
    "dataset"
   ]
  },
  {
   "cell_type": "code",
   "execution_count": 2,
   "id": "b041b727",
   "metadata": {},
   "outputs": [
    {
     "data": {
      "text/html": [
       "<div>\n",
       "<style scoped>\n",
       "    .dataframe tbody tr th:only-of-type {\n",
       "        vertical-align: middle;\n",
       "    }\n",
       "\n",
       "    .dataframe tbody tr th {\n",
       "        vertical-align: top;\n",
       "    }\n",
       "\n",
       "    .dataframe thead th {\n",
       "        text-align: right;\n",
       "    }\n",
       "</style>\n",
       "<table border=\"1\" class=\"dataframe\">\n",
       "  <thead>\n",
       "    <tr style=\"text-align: right;\">\n",
       "      <th></th>\n",
       "      <th>voltage</th>\n",
       "      <th>current</th>\n",
       "      <th>power</th>\n",
       "      <th>class</th>\n",
       "    </tr>\n",
       "  </thead>\n",
       "  <tbody>\n",
       "    <tr>\n",
       "      <th>0</th>\n",
       "      <td>0.0000</td>\n",
       "      <td>0.000000</td>\n",
       "      <td>0.000000</td>\n",
       "      <td>NoLoad</td>\n",
       "    </tr>\n",
       "    <tr>\n",
       "      <th>1</th>\n",
       "      <td>0.0000</td>\n",
       "      <td>0.000000</td>\n",
       "      <td>0.000000</td>\n",
       "      <td>NoLoad</td>\n",
       "    </tr>\n",
       "    <tr>\n",
       "      <th>2</th>\n",
       "      <td>0.0000</td>\n",
       "      <td>0.000000</td>\n",
       "      <td>0.000000</td>\n",
       "      <td>NoLoad</td>\n",
       "    </tr>\n",
       "    <tr>\n",
       "      <th>3</th>\n",
       "      <td>0.0000</td>\n",
       "      <td>0.000000</td>\n",
       "      <td>0.000000</td>\n",
       "      <td>NoLoad</td>\n",
       "    </tr>\n",
       "    <tr>\n",
       "      <th>4</th>\n",
       "      <td>0.0000</td>\n",
       "      <td>0.000000</td>\n",
       "      <td>0.000000</td>\n",
       "      <td>NoLoad</td>\n",
       "    </tr>\n",
       "    <tr>\n",
       "      <th>...</th>\n",
       "      <td>...</td>\n",
       "      <td>...</td>\n",
       "      <td>...</td>\n",
       "      <td>...</td>\n",
       "    </tr>\n",
       "    <tr>\n",
       "      <th>395</th>\n",
       "      <td>214.2647</td>\n",
       "      <td>0.847530</td>\n",
       "      <td>181.595761</td>\n",
       "      <td>Risk</td>\n",
       "    </tr>\n",
       "    <tr>\n",
       "      <th>396</th>\n",
       "      <td>214.6480</td>\n",
       "      <td>0.850669</td>\n",
       "      <td>182.594400</td>\n",
       "      <td>Risk</td>\n",
       "    </tr>\n",
       "    <tr>\n",
       "      <th>397</th>\n",
       "      <td>215.0313</td>\n",
       "      <td>0.850669</td>\n",
       "      <td>182.920461</td>\n",
       "      <td>Risk</td>\n",
       "    </tr>\n",
       "    <tr>\n",
       "      <th>398</th>\n",
       "      <td>211.9649</td>\n",
       "      <td>0.850669</td>\n",
       "      <td>180.311970</td>\n",
       "      <td>Risk</td>\n",
       "    </tr>\n",
       "    <tr>\n",
       "      <th>399</th>\n",
       "      <td>215.7979</td>\n",
       "      <td>0.850669</td>\n",
       "      <td>183.572584</td>\n",
       "      <td>Risk</td>\n",
       "    </tr>\n",
       "  </tbody>\n",
       "</table>\n",
       "<p>400 rows × 4 columns</p>\n",
       "</div>"
      ],
      "text/plain": [
       "      voltage   current       power   class\n",
       "0      0.0000  0.000000    0.000000  NoLoad\n",
       "1      0.0000  0.000000    0.000000  NoLoad\n",
       "2      0.0000  0.000000    0.000000  NoLoad\n",
       "3      0.0000  0.000000    0.000000  NoLoad\n",
       "4      0.0000  0.000000    0.000000  NoLoad\n",
       "..        ...       ...         ...     ...\n",
       "395  214.2647  0.847530  181.595761    Risk\n",
       "396  214.6480  0.850669  182.594400    Risk\n",
       "397  215.0313  0.850669  182.920461    Risk\n",
       "398  211.9649  0.850669  180.311970    Risk\n",
       "399  215.7979  0.850669  183.572584    Risk\n",
       "\n",
       "[400 rows x 4 columns]"
      ]
     },
     "execution_count": 2,
     "metadata": {},
     "output_type": "execute_result"
    }
   ],
   "source": [
    "fileName = \"C:/Users/rushi/OneDrive/Desktop/Energy Meter.csv\"\n",
    "names = ['voltage', 'current', 'power', 'class']\n",
    "dataset = pd.read_csv(fileName, names=names)\n",
    "dataset"
   ]
  },
  {
   "cell_type": "markdown",
   "id": "0025dd3e",
   "metadata": {},
   "source": [
    "# Selecting Columns"
   ]
  },
  {
   "cell_type": "code",
   "execution_count": 3,
   "id": "60bbfefc",
   "metadata": {},
   "outputs": [],
   "source": [
    "array = dataset.values\n",
    "x = array[:,0:3]\n",
    "y = array[:,3]"
   ]
  },
  {
   "cell_type": "code",
   "execution_count": 4,
   "id": "4ea5ec99",
   "metadata": {},
   "outputs": [
    {
     "data": {
      "text/plain": [
       "array([[0.0, 0.0, 0.0],\n",
       "       [0.0, 0.0, 0.0],\n",
       "       [0.0, 0.0, 0.0],\n",
       "       [0.0, 0.0, 0.0],\n",
       "       [0.0, 0.0, 0.0],\n",
       "       [0.0, 0.0, 0.0],\n",
       "       [0.0, 0.0, 0.0],\n",
       "       [0.3833, 0.0, 0.0],\n",
       "       [0.0, 0.0, 0.0],\n",
       "       [0.0, 0.0, 0.0]], dtype=object)"
      ]
     },
     "execution_count": 4,
     "metadata": {},
     "output_type": "execute_result"
    }
   ],
   "source": [
    "x[:10]"
   ]
  },
  {
   "cell_type": "code",
   "execution_count": 5,
   "id": "74fc1f85",
   "metadata": {},
   "outputs": [
    {
     "data": {
      "text/plain": [
       "array(['NoLoad', 'NoLoad', 'NoLoad', 'NoLoad', 'NoLoad', 'NoLoad',\n",
       "       'NoLoad', 'NoLoad', 'NoLoad', 'NoLoad'], dtype=object)"
      ]
     },
     "execution_count": 5,
     "metadata": {},
     "output_type": "execute_result"
    }
   ],
   "source": [
    "y[:10]"
   ]
  },
  {
   "cell_type": "markdown",
   "id": "88629957",
   "metadata": {},
   "source": [
    "# Train Test Split"
   ]
  },
  {
   "cell_type": "code",
   "execution_count": 6,
   "id": "b0bd6fea",
   "metadata": {},
   "outputs": [],
   "source": [
    "from sklearn.model_selection import train_test_split\n",
    "xtrain, xtest, ytrain, ytest = train_test_split(x, y, test_size=0.50, random_state=1)"
   ]
  },
  {
   "cell_type": "code",
   "execution_count": 7,
   "id": "b6a4ba66",
   "metadata": {},
   "outputs": [
    {
     "data": {
      "text/plain": [
       "array([[212.7315, 0.84753, 180.296328195],\n",
       "       [0.0, 0.0, 0.0],\n",
       "       [214.648, 0.844391, 181.246839368],\n",
       "       [217.3311, 0.841252, 182.8302225372],\n",
       "       [216.1812, 0.841252, 181.8628668624],\n",
       "       [0.0, 0.0, 0.0],\n",
       "       [0.3833, 0.0, 0.0],\n",
       "       [0.0, 0.0, 0.0],\n",
       "       [212.7315, 0.17388, 36.98975322],\n",
       "       [0.0, 0.0, 0.0]], dtype=object)"
      ]
     },
     "execution_count": 7,
     "metadata": {},
     "output_type": "execute_result"
    }
   ],
   "source": [
    "xtrain[:10]"
   ]
  },
  {
   "cell_type": "code",
   "execution_count": 8,
   "id": "8f874a49",
   "metadata": {},
   "outputs": [
    {
     "data": {
      "text/plain": [
       "(200, 3)"
      ]
     },
     "execution_count": 8,
     "metadata": {},
     "output_type": "execute_result"
    }
   ],
   "source": [
    "xtrain.shape"
   ]
  },
  {
   "cell_type": "code",
   "execution_count": 9,
   "id": "c384645e",
   "metadata": {},
   "outputs": [
    {
     "data": {
      "text/plain": [
       "array([[211.9649, 0.850669, 180.3119695181],\n",
       "       [304.3402, 0.2494799999999999, 75.92679309599998],\n",
       "       [213.1148, 0.841252, 179.28325172959998],\n",
       "       [213.8814, 0.844391, 180.5995292274],\n",
       "       [211.5816, 0.2494799999999999, 52.785377568],\n",
       "       [212.7315, 0.844391, 179.62856401649998],\n",
       "       [211.1983, 0.252315, 53.2884990645],\n",
       "       [213.1148, 0.176985, 37.718122878],\n",
       "       [0.0, 0.0, 0.0],\n",
       "       [216.9478, 0.176985, 38.396506383]], dtype=object)"
      ]
     },
     "execution_count": 9,
     "metadata": {},
     "output_type": "execute_result"
    }
   ],
   "source": [
    "xtest[:10]"
   ]
  },
  {
   "cell_type": "code",
   "execution_count": 10,
   "id": "f0f71758",
   "metadata": {},
   "outputs": [
    {
     "data": {
      "text/plain": [
       "(200, 3)"
      ]
     },
     "execution_count": 10,
     "metadata": {},
     "output_type": "execute_result"
    }
   ],
   "source": [
    "xtest.shape"
   ]
  },
  {
   "cell_type": "code",
   "execution_count": 11,
   "id": "c6817f54",
   "metadata": {},
   "outputs": [
    {
     "data": {
      "text/plain": [
       "array(['Risk', 'NoLoad', 'Risk', 'Risk', 'Risk', 'NoLoad', 'NoLoad',\n",
       "       'NoLoad', 'Medium', 'NoLoad'], dtype=object)"
      ]
     },
     "execution_count": 11,
     "metadata": {},
     "output_type": "execute_result"
    }
   ],
   "source": [
    "ytrain[:10]"
   ]
  },
  {
   "cell_type": "code",
   "execution_count": 12,
   "id": "6951073f",
   "metadata": {},
   "outputs": [
    {
     "data": {
      "text/plain": [
       "(200,)"
      ]
     },
     "execution_count": 12,
     "metadata": {},
     "output_type": "execute_result"
    }
   ],
   "source": [
    "ytrain.shape"
   ]
  },
  {
   "cell_type": "code",
   "execution_count": 13,
   "id": "aa8192c7",
   "metadata": {},
   "outputs": [
    {
     "data": {
      "text/plain": [
       "array(['Risk', 'Normal', 'Risk', 'Risk', 'Normal', 'Risk', 'Normal',\n",
       "       'Medium', 'NoLoad', 'Medium'], dtype=object)"
      ]
     },
     "execution_count": 13,
     "metadata": {},
     "output_type": "execute_result"
    }
   ],
   "source": [
    "ytest[:10]"
   ]
  },
  {
   "cell_type": "code",
   "execution_count": 14,
   "id": "b2b9003e",
   "metadata": {},
   "outputs": [
    {
     "data": {
      "text/plain": [
       "(200,)"
      ]
     },
     "execution_count": 14,
     "metadata": {},
     "output_type": "execute_result"
    }
   ],
   "source": [
    "ytest.shape"
   ]
  },
  {
   "cell_type": "markdown",
   "id": "d4bcd8aa",
   "metadata": {},
   "source": [
    "# Model Selection"
   ]
  },
  {
   "cell_type": "code",
   "execution_count": 15,
   "id": "f49bd777",
   "metadata": {},
   "outputs": [
    {
     "data": {
      "text/plain": [
       "SVC(gamma='auto')"
      ]
     },
     "execution_count": 15,
     "metadata": {},
     "output_type": "execute_result"
    }
   ],
   "source": [
    "from sklearn.svm import SVC\n",
    "model = SVC(gamma='auto')\n",
    "model.fit(xtrain, ytrain)"
   ]
  },
  {
   "cell_type": "code",
   "execution_count": 16,
   "id": "eba752db",
   "metadata": {},
   "outputs": [],
   "source": [
    "import pickle\n",
    "filename = 'model.pkl'\n",
    "pickle.dump(model, open(filename, 'wb'))"
   ]
  },
  {
   "cell_type": "code",
   "execution_count": 17,
   "id": "c2c50a2f",
   "metadata": {},
   "outputs": [
    {
     "name": "stdout",
     "output_type": "stream",
     "text": [
      "1.0\n"
     ]
    }
   ],
   "source": [
    "loaded_model = pickle.load(open(filename, 'rb'))\n",
    "result = loaded_model.score(xtrain, ytrain)\n",
    "print(result)"
   ]
  },
  {
   "cell_type": "markdown",
   "id": "7eda8abf",
   "metadata": {},
   "source": [
    "# Deployment "
   ]
  },
  {
   "cell_type": "code",
   "execution_count": 18,
   "id": "fe9351de",
   "metadata": {},
   "outputs": [
    {
     "name": "stdout",
     "output_type": "stream",
     "text": [
      "NoLoad\n"
     ]
    }
   ],
   "source": [
    "value = [[0,0,0]]\n",
    "predictions = model.predict(value)\n",
    "print(predictions[0])"
   ]
  },
  {
   "cell_type": "code",
   "execution_count": 19,
   "id": "2b734627",
   "metadata": {},
   "outputs": [
    {
     "name": "stdout",
     "output_type": "stream",
     "text": [
      "Normal\n"
     ]
    }
   ],
   "source": [
    "value = [[214.6,0.24,52.9]]\n",
    "predictions = model.predict(value)\n",
    "print(predictions[0])"
   ]
  },
  {
   "cell_type": "code",
   "execution_count": 20,
   "id": "187777a8",
   "metadata": {},
   "outputs": [
    {
     "name": "stdout",
     "output_type": "stream",
     "text": [
      "Medium\n"
     ]
    }
   ],
   "source": [
    "value = [[215.7979,0.176985,38.19299133]]\n",
    "predictions = model.predict(value)\n",
    "print(predictions[0])"
   ]
  },
  {
   "cell_type": "code",
   "execution_count": 21,
   "id": "82e2d265",
   "metadata": {},
   "outputs": [
    {
     "name": "stdout",
     "output_type": "stream",
     "text": [
      "Risk\n"
     ]
    }
   ],
   "source": [
    "value = [[215.7979,0.838113,180.8630254]]\n",
    "predictions = model.predict(value)\n",
    "print(predictions[0])"
   ]
  },
  {
   "cell_type": "markdown",
   "id": "e3c072aa",
   "metadata": {},
   "source": [
    "When we inserting the values Voltage, current, power in value, then the model deployes the class of the given values"
   ]
  },
  {
   "cell_type": "markdown",
   "id": "195e8e29",
   "metadata": {},
   "source": [
    "# Thank You"
   ]
  }
 ],
 "metadata": {
  "kernelspec": {
   "display_name": "Python 3 (ipykernel)",
   "language": "python",
   "name": "python3"
  },
  "language_info": {
   "codemirror_mode": {
    "name": "ipython",
    "version": 3
   },
   "file_extension": ".py",
   "mimetype": "text/x-python",
   "name": "python",
   "nbconvert_exporter": "python",
   "pygments_lexer": "ipython3",
   "version": "3.9.12"
  }
 },
 "nbformat": 4,
 "nbformat_minor": 5
}
