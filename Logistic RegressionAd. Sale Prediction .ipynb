{
 "cells": [
  {
   "cell_type": "markdown",
   "id": "1a9a3bea",
   "metadata": {},
   "source": [
    "# Validating Model - Ad. Sale Prediction from Existing customer | Logistic Regression"
   ]
  },
  {
   "cell_type": "code",
   "execution_count": 1,
   "id": "8bd24b7e",
   "metadata": {},
   "outputs": [],
   "source": [
    "import pandas as pd\n",
    "import numpy as np"
   ]
  },
  {
   "cell_type": "code",
   "execution_count": 2,
   "id": "bc8d0ef5",
   "metadata": {},
   "outputs": [],
   "source": [
    "dataset = pd.read_csv(\"C:/Users/rushi/OneDrive/Desktop/Projects DS,ML,DL,AI/GitHub Uploded Resporatory/Pantech/Validating Model - Ad. Sale Prediction from Existing customer  Logistic Regression/DigitalAd_dataset.csv\")"
   ]
  },
  {
   "cell_type": "code",
   "execution_count": 3,
   "id": "8f625d26",
   "metadata": {},
   "outputs": [],
   "source": [
    "# Summarize Dataset"
   ]
  },
  {
   "cell_type": "code",
   "execution_count": 4,
   "id": "9ef409e4",
   "metadata": {},
   "outputs": [
    {
     "name": "stdout",
     "output_type": "stream",
     "text": [
      "(400, 3)\n",
      "   Age  Salary  Status\n",
      "0   18   82000       0\n",
      "1   29   80000       0\n",
      "2   47   25000       1\n",
      "3   45   26000       1\n",
      "4   46   28000       1\n"
     ]
    }
   ],
   "source": [
    "print(dataset.shape)\n",
    "print(dataset.head())"
   ]
  },
  {
   "cell_type": "code",
   "execution_count": 5,
   "id": "7ceee928",
   "metadata": {},
   "outputs": [],
   "source": [
    "# Segregate Dataset into X and Y"
   ]
  },
  {
   "cell_type": "code",
   "execution_count": 6,
   "id": "aec5bc45",
   "metadata": {},
   "outputs": [
    {
     "data": {
      "text/plain": [
       "array([[   18, 82000],\n",
       "       [   29, 80000],\n",
       "       [   47, 25000],\n",
       "       [   45, 26000],\n",
       "       [   46, 28000],\n",
       "       [   48, 29000],\n",
       "       [   45, 22000],\n",
       "       [   47, 49000],\n",
       "       [   48, 41000],\n",
       "       [   45, 22000]], dtype=int64)"
      ]
     },
     "execution_count": 6,
     "metadata": {},
     "output_type": "execute_result"
    }
   ],
   "source": [
    "X = dataset.iloc[:,:-1].values\n",
    "X[:10]"
   ]
  },
  {
   "cell_type": "code",
   "execution_count": 7,
   "id": "d3fec7d3",
   "metadata": {},
   "outputs": [
    {
     "data": {
      "text/plain": [
       "0    0\n",
       "1    0\n",
       "2    1\n",
       "3    1\n",
       "4    1\n",
       "5    1\n",
       "6    1\n",
       "7    1\n",
       "8    1\n",
       "9    1\n",
       "Name: Status, dtype: int64"
      ]
     },
     "execution_count": 7,
     "metadata": {},
     "output_type": "execute_result"
    }
   ],
   "source": [
    "Y = dataset.iloc[:,-1]\n",
    "Y[:10]"
   ]
  },
  {
   "cell_type": "code",
   "execution_count": 8,
   "id": "ec71b323",
   "metadata": {},
   "outputs": [],
   "source": [
    "# splitting Dataset into Train and Test"
   ]
  },
  {
   "cell_type": "code",
   "execution_count": 9,
   "id": "54af00b3",
   "metadata": {},
   "outputs": [],
   "source": [
    "from sklearn.model_selection import train_test_split\n",
    "X_train, X_test, y_train, y_test = train_test_split(X, Y, test_size=0.25, random_state=0)"
   ]
  },
  {
   "cell_type": "code",
   "execution_count": 10,
   "id": "f19e5ede",
   "metadata": {},
   "outputs": [],
   "source": [
    "# feature Scalling"
   ]
  },
  {
   "cell_type": "code",
   "execution_count": 11,
   "id": "dab2ed6a",
   "metadata": {},
   "outputs": [],
   "source": [
    "from sklearn.preprocessing import StandardScaler\n",
    "sc = StandardScaler()\n",
    "X_train = sc.fit_transform(X_train)\n",
    "X_test = sc.transform(X_test)"
   ]
  },
  {
   "cell_type": "code",
   "execution_count": 12,
   "id": "20f3b34b",
   "metadata": {},
   "outputs": [],
   "source": [
    "# Training"
   ]
  },
  {
   "cell_type": "code",
   "execution_count": 13,
   "id": "6f4ce7e4",
   "metadata": {},
   "outputs": [
    {
     "data": {
      "text/plain": [
       "LogisticRegression(random_state=0)"
      ]
     },
     "execution_count": 13,
     "metadata": {},
     "output_type": "execute_result"
    }
   ],
   "source": [
    "from sklearn.linear_model import LogisticRegression\n",
    "model = LogisticRegression(random_state=0)\n",
    "model.fit(X_train,y_train)"
   ]
  },
  {
   "cell_type": "code",
   "execution_count": 14,
   "id": "9f7f2778",
   "metadata": {},
   "outputs": [],
   "source": [
    "# Prediction "
   ]
  },
  {
   "cell_type": "code",
   "execution_count": 15,
   "id": "6902a880",
   "metadata": {},
   "outputs": [],
   "source": [
    "y_pred = model.predict(X_test)"
   ]
  },
  {
   "cell_type": "code",
   "execution_count": 16,
   "id": "4a22aab1",
   "metadata": {},
   "outputs": [
    {
     "data": {
      "text/plain": [
       "array([0, 0, 1, 1, 0, 0, 0, 1, 0, 0, 0, 0, 0, 0, 0, 0, 1, 0, 0, 0, 0, 0,\n",
       "       0, 0, 0, 0, 0, 0, 1, 0, 0, 0, 0, 1, 0, 0, 0, 0, 0, 0, 0, 1, 0, 0,\n",
       "       0, 0, 0, 0, 0, 1, 1, 0, 1, 0, 0, 0, 0, 0, 0, 0, 0, 0, 0, 0, 0, 1,\n",
       "       0, 0, 0, 1, 0, 1, 0, 0, 0, 0, 0, 0, 0, 0, 1, 0, 0, 0, 0, 1, 0, 0,\n",
       "       0, 1, 0, 0, 0, 0, 1, 0, 0, 0, 1, 1], dtype=int64)"
      ]
     },
     "execution_count": 16,
     "metadata": {},
     "output_type": "execute_result"
    }
   ],
   "source": [
    "y_pred"
   ]
  },
  {
   "cell_type": "markdown",
   "id": "0d1e5413",
   "metadata": {},
   "source": [
    "# Evaluating Model"
   ]
  },
  {
   "cell_type": "code",
   "execution_count": 17,
   "id": "d710a1dc",
   "metadata": {},
   "outputs": [],
   "source": [
    "# Confusion Matrix"
   ]
  },
  {
   "cell_type": "code",
   "execution_count": 18,
   "id": "32a86c2a",
   "metadata": {},
   "outputs": [
    {
     "name": "stdout",
     "output_type": "stream",
     "text": [
      "confusion Matrix: \n",
      "[[61  0]\n",
      " [20 19]]\n"
     ]
    }
   ],
   "source": [
    "from sklearn.metrics import confusion_matrix\n",
    "cm = confusion_matrix(y_test, y_pred)\n",
    "print(\"confusion Matrix: \")\n",
    "print(cm)"
   ]
  },
  {
   "cell_type": "code",
   "execution_count": 19,
   "id": "6d75330a",
   "metadata": {},
   "outputs": [],
   "source": [
    "# Accuracy Score"
   ]
  },
  {
   "cell_type": "code",
   "execution_count": 20,
   "id": "806bc98c",
   "metadata": {},
   "outputs": [
    {
     "name": "stdout",
     "output_type": "stream",
     "text": [
      "Accuracy: 80.0%\n"
     ]
    }
   ],
   "source": [
    "from sklearn.metrics import accuracy_score\n",
    "print(\"Accuracy: {0}%\".format(accuracy_score(y_test, y_pred)*100))"
   ]
  },
  {
   "cell_type": "markdown",
   "id": "edc81313",
   "metadata": {},
   "source": [
    "# Receiver Operating Curve - ROC Curve"
   ]
  },
  {
   "cell_type": "code",
   "execution_count": 33,
   "id": "439e8a55",
   "metadata": {},
   "outputs": [
    {
     "name": "stdout",
     "output_type": "stream",
     "text": [
      "No Skill: ROC AUC=50.000\n",
      "Logistic Skill: ROC AUC=92.980\n"
     ]
    },
    {
     "data": {
      "image/png": "[encoded data removed]",
      "text/plain": [
       "<Figure size 432x288 with 1 Axes>"
      ]
     },
     "metadata": {
      "needs_background": "light"
     },
     "output_type": "display_data"
    }
   ],
   "source": [
    "from sklearn.metrics import roc_auc_score, roc_curve\n",
    "import matplotlib.pyplot as plt\n",
    "\n",
    "nsProbability = [0 for _ in range(len(y_test))]\n",
    "lsProbability = model.predict_proba(X_test)\n",
    "\n",
    "# Keep probabilities for the positive outcome only\n",
    "lsProbability = lsProbability[:, 1]\n",
    "\n",
    "# Calculate Scores\n",
    "nsAUC = roc_auc_score(y_test, nsProbability)\n",
    "lrAUC = roc_auc_score(y_test, lsProbability)\n",
    "\n",
    "# Summarize Scores\n",
    "print('No Skill: ROC AUC=%.3f' % (nsAUC*100))\n",
    "print('Logistic Skill: ROC AUC=%.3f' % (lrAUC*100))\n",
    "\n",
    "# calculate roc curves\n",
    "nsFP, nsTP, _ = roc_curve(y_test, nsProbability)\n",
    "lrFP, lrTP, _ = roc_curve(y_test, lsProbability)\n",
    "\n",
    "# Plot the roc curve for the model\n",
    "plt.plot(nsFP, nsTP, linestyle='--', label='No Skill')\n",
    "plt.plot(lrFP, lrTP, marker='*', label='Logistic')\n",
    "plt.xlabel('False Positive Rate')\n",
    "plt.ylabel('True Positive Rate')\n",
    "plt.legend()\n",
    "plt.show()"
   ]
  },
  {
   "cell_type": "markdown",
   "id": "3282ee97",
   "metadata": {},
   "source": [
    "# Cross Validation Score"
   ]
  },
  {
   "cell_type": "code",
   "execution_count": null,
   "id": "0b6712d9",
   "metadata": {},
   "outputs": [],
   "source": [
    "from sklearn.model_selection import cross_val_score\n",
    "from sklearn.model_selection import KFold\n",
    "kfold = KFold(n_splits=10, random_state=100, shuffle=True)\n",
    "result = cross_val_score(model, X, Y, cv=kfold)\n",
    "print(\"CROSS VALIDATION SCORE: %.2f%%\" % (result.mean()*100.0))"
   ]
  },
  {
   "cell_type": "markdown",
   "id": "398ffbc6",
   "metadata": {},
   "source": [
    "# Stratifield K-fold Cross Validation"
   ]
  },
  {
   "cell_type": "code",
   "execution_count": 42,
   "id": "683c3bd9",
   "metadata": {},
   "outputs": [
    {
     "name": "stdout",
     "output_type": "stream",
     "text": [
      "STATIFIELD K-FOLD SCORE: 64.25%\n"
     ]
    }
   ],
   "source": [
    "from sklearn.model_selection import cross_val_score\n",
    "from sklearn.model_selection import StratifiedKFold\n",
    "\n",
    "skfold = StratifiedKFold(n_splits=3, random_state=100, shuffle=True)\n",
    "model_skfold = LogisticRegression()\n",
    "result_skfold = cross_val_score(model_skfold, X, Y, cv=skfold)\n",
    "print(\"STATIFIELD K-FOLD SCORE: %.2f%%\" % (result_skfold.mean()*100.0))"
   ]
  },
  {
   "cell_type": "markdown",
   "id": "3e52db05",
   "metadata": {},
   "source": [
    "# Cummulative Accuracy Profile(CAP) Curve"
   ]
  },
  {
   "cell_type": "code",
   "execution_count": 44,
   "id": "90763394",
   "metadata": {},
   "outputs": [
    {
     "name": "stdout",
     "output_type": "stream",
     "text": [
      "100\n",
      "39\n"
     ]
    },
    {
     "data": {
      "text/plain": [
       "<matplotlib.legend.Legend at 0x1db46a32ac0>"
      ]
     },
     "execution_count": 44,
     "metadata": {},
     "output_type": "execute_result"
    },
    {
     "data": {
      "image/png": "[encoded data removed]",
      "text/plain": [
       "<Figure size 432x288 with 1 Axes>"
      ]
     },
     "metadata": {
      "needs_background": "light"
     },
     "output_type": "display_data"
    }
   ],
   "source": [
    "total = len(y_test)\n",
    "print(total)\n",
    "class_1_count = np.sum(y_test)\n",
    "print(class_1_count)\n",
    "class_0_count = total - class_1_count\n",
    "plt.plot([0, total], [0, class_1_count], c='r', linestyle='--', label='Random Model')\n",
    "\n",
    "plt.plot([0, class_1_count, total],\n",
    "         [0, class_1_count, class_1_count],\n",
    "         c = 'grey',\n",
    "         linewidth = 2,\n",
    "         label = 'Perfect Model')\n",
    "\n",
    "probs = model.predict_proba(X_test)\n",
    "probs = probs[:, 1]\n",
    "model_y = [y for _, y in sorted(zip(probs, y_test), reverse = True)]\n",
    "y_values = np.append([0], np.cumsum(model_y))\n",
    "x_values = np.arange(0, total + 1)\n",
    "\n",
    "plt.plot(x_values,\n",
    "         y_values,\n",
    "         c = 'b',\n",
    "         label = 'LR Classifier',\n",
    "         linewidth = 4)\n",
    "index = int((50*total / 100))\n",
    "\n",
    "## 50% Vertical line from x-axis\n",
    "plt.plot([index, index], [0, y_values[index]], c = 'g', linestyle='--')\n",
    "\n",
    "## Horizontal line to y-axis from prediction model\n",
    "plt.plot([0, index],[y_values[index], y_values[index]], c = 'g', linestyle='--')\n",
    "\n",
    "class_1_observed = y_values[index] * 100 / max(y_values)\n",
    "plt.xlabel('Total Observations')\n",
    "plt.ylabel('Class 1 Observations')\n",
    "plt.title('Cumulative Accuracy Profile')\n",
    "plt.legend(loc = 'lower right')"
   ]
  },
  {
   "cell_type": "code",
   "execution_count": null,
   "id": "7ba645a4",
   "metadata": {},
   "outputs": [],
   "source": []
  }
 ],
 "metadata": {
  "kernelspec": {
   "display_name": "Python 3 (ipykernel)",
   "language": "python",
   "name": "python3"
  },
  "language_info": {
   "codemirror_mode": {
    "name": "ipython",
    "version": 3
   },
   "file_extension": ".py",
   "mimetype": "text/x-python",
   "name": "python",
   "nbconvert_exporter": "python",
   "pygments_lexer": "ipython3",
   "version": "3.9.12"
  }
 },
 "nbformat": 4,
 "nbformat_minor": 5
}
